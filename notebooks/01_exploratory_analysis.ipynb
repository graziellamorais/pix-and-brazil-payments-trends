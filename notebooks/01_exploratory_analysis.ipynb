{
 "cells": [
  {
   "cell_type": "markdown",
   "id": "438ed356",
   "metadata": {},
   "source": [
    "# PIX and Brazil Payments Trends – Exploratory Analysis\n",
    "\n",
    "This notebook performs initial exploration and cleaning of the Brazilian Payment Methods dataset (2016–2024).  \n",
    "The goal is to prepare the data for SQL aggregation and Tableau visualization, using pandas and numpy, focusing on PIX and the decline of traditional payment methods (DOC, TED, Boleto, Checks)."
   ]
  },
  {
   "cell_type": "markdown",
   "id": "186f0639",
   "metadata": {},
   "source": [
    "## Import Libraries"
   ]
  },
  {
   "cell_type": "code",
   "execution_count": null,
   "id": "4298c230",
   "metadata": {},
   "outputs": [],
   "source": [
    "import pandas as pd\n",
    "import numpy as np"
   ]
  },
  {
   "cell_type": "markdown",
   "id": "1b600dda",
   "metadata": {},
   "source": [
    "## Load Dataset"
   ]
  },
  {
   "cell_type": "code",
   "execution_count": null,
   "id": "571883bb",
   "metadata": {},
   "outputs": [],
   "source": [
    "df = pd.read_csv('../data/raw/brazilian_payment_methods_raw.csv') # Load Dataset\n",
    "\n",
    "df.head(20) #Quick look at the data"
   ]
  },
  {
   "cell_type": "markdown",
   "id": "b7d5263f",
   "metadata": {},
   "source": [
    "## Dataset Overview\n",
    "Check column types, missing values, and basic statistics"
   ]
  },
  {
   "cell_type": "code",
   "execution_count": null,
   "id": "f838715c",
   "metadata": {},
   "outputs": [],
   "source": [
    "df.info()\n",
    "df.describe()\n",
    "df.isna().sum() # Check for missing values"
   ]
  },
  {
   "cell_type": "markdown",
   "id": "99374912",
   "metadata": {},
   "source": [
    "> **Note:** \n",
    "Each number (0) tells us how many missing values there are in that column. \n",
    "0 means no missing data in that column — all rows have valid values. \n",
    "The dataset is complete for all columns."
   ]
  },
  {
   "cell_type": "markdown",
   "id": "6437fee4",
   "metadata": {},
   "source": [
    "## Convert YearMonth to datetime"
   ]
  },
  {
   "cell_type": "code",
   "execution_count": null,
   "id": "202c7f4f",
   "metadata": {},
   "outputs": [],
   "source": [
    "df['YearMonth'] = pd.to_datetime(df['YearMonth'], format='%Y%m') # Convert YearMonth to datetime\n",
    "df['year'] = df['YearMonth'].dt.year # Extract year for trend analysis\n",
    "df['month'] = df['YearMonth'].dt.month  # Extract month for seasonal analysis\n",
    "\n",
    "df.head()"
   ]
  },
  {
   "cell_type": "markdown",
   "id": "20c4f730",
   "metadata": {},
   "source": [
    "The date was stored as **202405** and now it's **2024-05-01**."
   ]
  },
  {
   "cell_type": "markdown",
   "id": "bc47fc49",
   "metadata": {},
   "source": [
    "> **Why?**  \n",
    "> Converting `YearMonth` allows us to sort and plot data chronologically.  \n",
    "> We also extract `year` and `month` for easier grouping later."
   ]
  },
  {
   "cell_type": "markdown",
   "id": "1731d6e0",
   "metadata": {},
   "source": [
    "## Ensure Numeric Columns\n",
    "These columns are numbers and need to be numeric for aggregation in SQL."
   ]
  },
  {
   "cell_type": "code",
   "execution_count": null,
   "id": "56441be9",
   "metadata": {},
   "outputs": [],
   "source": [
    "# Columns to convert to numeric (all except YearMonth)\n",
    "numeric_cols = [\n",
    "    'quantityPix', 'valuePix',\n",
    "    'quantityTED', 'valueTED',\n",
    "    'quantityTEC', 'valueTEC',\n",
    "    'quantityBankCheck', 'valueBankCheck',\n",
    "    'quantityBrazilianBoletoPayment', 'valueBrazilianBoletoPayment',\n",
    "    'quantityDOC', 'valueDOC'\n",
    "]\n",
    "\n",
    "# Convert columns to numeric, coerce errors to NaN\n",
    "df[numeric_cols] = df[numeric_cols].apply(pd.to_numeric, errors='coerce')\n",
    "\n",
    "# Verify the conversion\n",
    "df.info()\n",
    "df.isna().sum()"
   ]
  },
  {
   "cell_type": "markdown",
   "id": "9529254c",
   "metadata": {},
   "source": [
    "## Create Metrics: Average Transaction Values\n",
    "For each payment method (PIX, TED, TEC, DOC, Boleto, Check), the average value per transaction is calculated as:\n",
    "\n",
    "- **avg_method = valueMethod / quantityMethod**"
   ]
  },
  {
   "cell_type": "code",
   "execution_count": null,
   "id": "690a8af5",
   "metadata": {},
   "outputs": [],
   "source": [
    "# Calculate average transaction values for each payment method\n",
    "df['avg_pix'] = df['valuePix'] / df['quantityPix']\n",
    "df['avg_ted'] = df['valueTED'] / df['quantityTED']\n",
    "df['avg_doc'] = df['valueDOC'] / df['quantityDOC']\n",
    "df['avg_check'] = df['valueBankCheck'] / df['quantityBankCheck']\n",
    "df['avg_boleto'] = df['valueBrazilianBoletoPayment'] / df['quantityBrazilianBoletoPayment']\n",
    "\n",
    "df[['YearMonth','avg_pix','avg_ted','avg_doc','avg_check','avg_boleto']].head(20)"
   ]
  },
  {
   "cell_type": "markdown",
   "id": "4da9dc73",
   "metadata": {},
   "source": [
    "> **Note:** Months with zero transactions (quantity = 0) will result in `NaN`.  \n",
    "> This indicates that no transactions occurred that month, which is expected."
   ]
  },
  {
   "cell_type": "markdown",
   "id": "7d88a745",
   "metadata": {},
   "source": [
    "## Save Cleaned Dataset\n",
    "Saving the cleaned dataset so it can be imported into SQL for aggregation and analysis:"
   ]
  },
  {
   "cell_type": "code",
   "execution_count": null,
   "id": "92936fcb",
   "metadata": {},
   "outputs": [],
   "source": [
    "df.to_csv('../data/cleaned/brazilian_payment_methods_clean.csv', index=False) # Save cleaned data to a new CSV file"
   ]
  }
 ],
 "metadata": {
  "kernelspec": {
   "display_name": "Python (biodiversity)",
   "language": "python",
   "name": "biodiversity"
  },
  "language_info": {
   "codemirror_mode": {
    "name": "ipython",
    "version": 3
   },
   "file_extension": ".py",
   "mimetype": "text/x-python",
   "name": "python",
   "nbconvert_exporter": "python",
   "pygments_lexer": "ipython3",
   "version": "3.12.9"
  }
 },
 "nbformat": 4,
 "nbformat_minor": 5
}
